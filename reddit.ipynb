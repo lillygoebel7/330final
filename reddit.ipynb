{
 "cells": [
  {
   "cell_type": "code",
   "execution_count": 41,
   "id": "af5841bd",
   "metadata": {},
   "outputs": [
    {
     "name": "stdout",
     "output_type": "stream",
     "text": [
      "Collecting wordcloud\n",
      "  Downloading wordcloud-1.8.2.2-cp310-cp310-win_amd64.whl (153 kB)\n",
      "     -------------------------------------- 153.1/153.1 kB 3.0 MB/s eta 0:00:00\n",
      "Requirement already satisfied: pillow in c:\\users\\tyler\\anaconda3\\lib\\site-packages (from wordcloud) (9.4.0)\n",
      "Requirement already satisfied: matplotlib in c:\\users\\tyler\\anaconda3\\lib\\site-packages (from wordcloud) (3.7.0)\n",
      "Requirement already satisfied: numpy>=1.6.1 in c:\\users\\tyler\\anaconda3\\lib\\site-packages (from wordcloud) (1.23.5)\n",
      "Requirement already satisfied: cycler>=0.10 in c:\\users\\tyler\\anaconda3\\lib\\site-packages (from matplotlib->wordcloud) (0.11.0)\n",
      "Requirement already satisfied: kiwisolver>=1.0.1 in c:\\users\\tyler\\anaconda3\\lib\\site-packages (from matplotlib->wordcloud) (1.4.4)\n",
      "Requirement already satisfied: packaging>=20.0 in c:\\users\\tyler\\anaconda3\\lib\\site-packages (from matplotlib->wordcloud) (22.0)\n",
      "Requirement already satisfied: python-dateutil>=2.7 in c:\\users\\tyler\\anaconda3\\lib\\site-packages (from matplotlib->wordcloud) (2.8.2)\n",
      "Requirement already satisfied: fonttools>=4.22.0 in c:\\users\\tyler\\anaconda3\\lib\\site-packages (from matplotlib->wordcloud) (4.25.0)\n",
      "Requirement already satisfied: contourpy>=1.0.1 in c:\\users\\tyler\\anaconda3\\lib\\site-packages (from matplotlib->wordcloud) (1.0.5)\n",
      "Requirement already satisfied: pyparsing>=2.3.1 in c:\\users\\tyler\\anaconda3\\lib\\site-packages (from matplotlib->wordcloud) (3.0.9)\n",
      "Requirement already satisfied: six>=1.5 in c:\\users\\tyler\\anaconda3\\lib\\site-packages (from python-dateutil>=2.7->matplotlib->wordcloud) (1.16.0)\n",
      "Installing collected packages: wordcloud\n",
      "Successfully installed wordcloud-1.8.2.2\n",
      "Note: you may need to restart the kernel to use updated packages.\n"
     ]
    }
   ],
   "source": [
    "%pip install wordcloud"
   ]
  },
  {
   "cell_type": "code",
   "execution_count": 1,
   "id": "54845b5a",
   "metadata": {},
   "outputs": [],
   "source": [
    "import pandas as pd\n",
    "import seaborn as sns\n",
    "import json\n",
    "import datetime\n",
    "import time\n",
    "import nltk\n",
    "from nltk.corpus import stopwords\n",
    "from nltk.tokenize import RegexpTokenizer\n",
    "from collections import Counter\n",
    "from nltk.sentiment import SentimentAnalyzer\n",
    "from nltk.sentiment import SentimentIntensityAnalyzer\n",
    "import matplotlib.pyplot as plt\n",
    "from wordcloud import WordCloud"
   ]
  },
  {
   "cell_type": "code",
   "execution_count": 2,
   "id": "f82addf4",
   "metadata": {},
   "outputs": [],
   "source": [
    "df = pd.read_json('se-mi-reddit-comments-short.json', lines=True)"
   ]
  },
  {
   "cell_type": "markdown",
   "id": "600418da",
   "metadata": {},
   "source": [
    "## Question 1\n",
    "\n",
    "What time of day has the most activity?"
   ]
  },
  {
   "cell_type": "code",
   "execution_count": 3,
   "id": "d8432b90",
   "metadata": {},
   "outputs": [
    {
     "data": {
      "text/html": [
       "<div>\n",
       "<style scoped>\n",
       "    .dataframe tbody tr th:only-of-type {\n",
       "        vertical-align: middle;\n",
       "    }\n",
       "\n",
       "    .dataframe tbody tr th {\n",
       "        vertical-align: top;\n",
       "    }\n",
       "\n",
       "    .dataframe thead th {\n",
       "        text-align: right;\n",
       "    }\n",
       "</style>\n",
       "<table border=\"1\" class=\"dataframe\">\n",
       "  <thead>\n",
       "    <tr style=\"text-align: right;\">\n",
       "      <th></th>\n",
       "      <th>author</th>\n",
       "      <th>author_flair_css_class</th>\n",
       "      <th>author_flair_text</th>\n",
       "      <th>body</th>\n",
       "      <th>can_gild</th>\n",
       "      <th>controversiality</th>\n",
       "      <th>created_utc</th>\n",
       "      <th>distinguished</th>\n",
       "      <th>edited</th>\n",
       "      <th>gilded</th>\n",
       "      <th>...</th>\n",
       "      <th>removal_reason</th>\n",
       "      <th>send_replies</th>\n",
       "      <th>steward_reports</th>\n",
       "      <th>subreddit_name_prefixed</th>\n",
       "      <th>total_awards_received</th>\n",
       "      <th>awarders</th>\n",
       "      <th>associated_award</th>\n",
       "      <th>collapsed_because_crowd_control</th>\n",
       "      <th>datetime</th>\n",
       "      <th>timeofday</th>\n",
       "    </tr>\n",
       "  </thead>\n",
       "  <tbody>\n",
       "    <tr>\n",
       "      <th>0</th>\n",
       "      <td>Augustushomme</td>\n",
       "      <td>None</td>\n",
       "      <td>None</td>\n",
       "      <td>What do you think is so great about Oslo?</td>\n",
       "      <td>True</td>\n",
       "      <td>1</td>\n",
       "      <td>1514765161</td>\n",
       "      <td>None</td>\n",
       "      <td>0</td>\n",
       "      <td>0</td>\n",
       "      <td>...</td>\n",
       "      <td>NaN</td>\n",
       "      <td>NaN</td>\n",
       "      <td>NaN</td>\n",
       "      <td>NaN</td>\n",
       "      <td>NaN</td>\n",
       "      <td>NaN</td>\n",
       "      <td>NaN</td>\n",
       "      <td>NaN</td>\n",
       "      <td>2018-01-01 00:06:01</td>\n",
       "      <td>0</td>\n",
       "    </tr>\n",
       "    <tr>\n",
       "      <th>1</th>\n",
       "      <td>eyeliketurtles</td>\n",
       "      <td>None</td>\n",
       "      <td>None</td>\n",
       "      <td>Used to live in Valley Ranch and absolutely lo...</td>\n",
       "      <td>True</td>\n",
       "      <td>0</td>\n",
       "      <td>1514765495</td>\n",
       "      <td>None</td>\n",
       "      <td>0</td>\n",
       "      <td>0</td>\n",
       "      <td>...</td>\n",
       "      <td>NaN</td>\n",
       "      <td>NaN</td>\n",
       "      <td>NaN</td>\n",
       "      <td>NaN</td>\n",
       "      <td>NaN</td>\n",
       "      <td>NaN</td>\n",
       "      <td>NaN</td>\n",
       "      <td>NaN</td>\n",
       "      <td>2018-01-01 00:11:35</td>\n",
       "      <td>0</td>\n",
       "    </tr>\n",
       "    <tr>\n",
       "      <th>2</th>\n",
       "      <td>Komm</td>\n",
       "      <td></td>\n",
       "      <td>royal oak</td>\n",
       "      <td>We have a penguin mingle?!</td>\n",
       "      <td>True</td>\n",
       "      <td>0</td>\n",
       "      <td>1514765632</td>\n",
       "      <td>None</td>\n",
       "      <td>0</td>\n",
       "      <td>0</td>\n",
       "      <td>...</td>\n",
       "      <td>NaN</td>\n",
       "      <td>NaN</td>\n",
       "      <td>NaN</td>\n",
       "      <td>NaN</td>\n",
       "      <td>NaN</td>\n",
       "      <td>NaN</td>\n",
       "      <td>NaN</td>\n",
       "      <td>NaN</td>\n",
       "      <td>2018-01-01 00:13:52</td>\n",
       "      <td>0</td>\n",
       "    </tr>\n",
       "    <tr>\n",
       "      <th>3</th>\n",
       "      <td>veryniiiice</td>\n",
       "      <td></td>\n",
       "      <td>Gaines Township</td>\n",
       "      <td>Looks just like the ones they use at devos hall.</td>\n",
       "      <td>True</td>\n",
       "      <td>0</td>\n",
       "      <td>1514765771</td>\n",
       "      <td>None</td>\n",
       "      <td>0</td>\n",
       "      <td>0</td>\n",
       "      <td>...</td>\n",
       "      <td>NaN</td>\n",
       "      <td>NaN</td>\n",
       "      <td>NaN</td>\n",
       "      <td>NaN</td>\n",
       "      <td>NaN</td>\n",
       "      <td>NaN</td>\n",
       "      <td>NaN</td>\n",
       "      <td>NaN</td>\n",
       "      <td>2018-01-01 00:16:11</td>\n",
       "      <td>0</td>\n",
       "    </tr>\n",
       "    <tr>\n",
       "      <th>4</th>\n",
       "      <td>CodeGR</td>\n",
       "      <td></td>\n",
       "      <td>West Grand</td>\n",
       "      <td>Can't believe people are getting out of their ...</td>\n",
       "      <td>True</td>\n",
       "      <td>0</td>\n",
       "      <td>1514766047</td>\n",
       "      <td>None</td>\n",
       "      <td>0</td>\n",
       "      <td>0</td>\n",
       "      <td>...</td>\n",
       "      <td>NaN</td>\n",
       "      <td>NaN</td>\n",
       "      <td>NaN</td>\n",
       "      <td>NaN</td>\n",
       "      <td>NaN</td>\n",
       "      <td>NaN</td>\n",
       "      <td>NaN</td>\n",
       "      <td>NaN</td>\n",
       "      <td>2018-01-01 00:20:47</td>\n",
       "      <td>0</td>\n",
       "    </tr>\n",
       "    <tr>\n",
       "      <th>...</th>\n",
       "      <td>...</td>\n",
       "      <td>...</td>\n",
       "      <td>...</td>\n",
       "      <td>...</td>\n",
       "      <td>...</td>\n",
       "      <td>...</td>\n",
       "      <td>...</td>\n",
       "      <td>...</td>\n",
       "      <td>...</td>\n",
       "      <td>...</td>\n",
       "      <td>...</td>\n",
       "      <td>...</td>\n",
       "      <td>...</td>\n",
       "      <td>...</td>\n",
       "      <td>...</td>\n",
       "      <td>...</td>\n",
       "      <td>...</td>\n",
       "      <td>...</td>\n",
       "      <td>...</td>\n",
       "      <td>...</td>\n",
       "      <td>...</td>\n",
       "    </tr>\n",
       "    <tr>\n",
       "      <th>86745</th>\n",
       "      <td>dustyboy313</td>\n",
       "      <td>None</td>\n",
       "      <td>Southwest</td>\n",
       "      <td>I agree with you. His detroit episode was garbage</td>\n",
       "      <td>True</td>\n",
       "      <td>1</td>\n",
       "      <td>1566602275</td>\n",
       "      <td>None</td>\n",
       "      <td>0</td>\n",
       "      <td>0</td>\n",
       "      <td>...</td>\n",
       "      <td>NaN</td>\n",
       "      <td>1.0</td>\n",
       "      <td>[]</td>\n",
       "      <td>r/Detroit</td>\n",
       "      <td>0.0</td>\n",
       "      <td>[]</td>\n",
       "      <td>NaN</td>\n",
       "      <td>NaN</td>\n",
       "      <td>2019-08-23 23:17:55</td>\n",
       "      <td>23</td>\n",
       "    </tr>\n",
       "    <tr>\n",
       "      <th>86746</th>\n",
       "      <td>jch2617</td>\n",
       "      <td>None</td>\n",
       "      <td>None</td>\n",
       "      <td>If all else fails Jesus is Lord..</td>\n",
       "      <td>True</td>\n",
       "      <td>0</td>\n",
       "      <td>1566602364</td>\n",
       "      <td>None</td>\n",
       "      <td>0</td>\n",
       "      <td>0</td>\n",
       "      <td>...</td>\n",
       "      <td>NaN</td>\n",
       "      <td>1.0</td>\n",
       "      <td>[]</td>\n",
       "      <td>r/grandrapids</td>\n",
       "      <td>0.0</td>\n",
       "      <td>[]</td>\n",
       "      <td>NaN</td>\n",
       "      <td>NaN</td>\n",
       "      <td>2019-08-23 23:19:24</td>\n",
       "      <td>23</td>\n",
       "    </tr>\n",
       "    <tr>\n",
       "      <th>86747</th>\n",
       "      <td>altakvetcher</td>\n",
       "      <td>None</td>\n",
       "      <td>None</td>\n",
       "      <td>We (couple- w/no kids or pets at the time) exp...</td>\n",
       "      <td>True</td>\n",
       "      <td>0</td>\n",
       "      <td>1566602392</td>\n",
       "      <td>None</td>\n",
       "      <td>0</td>\n",
       "      <td>0</td>\n",
       "      <td>...</td>\n",
       "      <td>NaN</td>\n",
       "      <td>1.0</td>\n",
       "      <td>[]</td>\n",
       "      <td>r/AnnArbor</td>\n",
       "      <td>0.0</td>\n",
       "      <td>[]</td>\n",
       "      <td>NaN</td>\n",
       "      <td>NaN</td>\n",
       "      <td>2019-08-23 23:19:52</td>\n",
       "      <td>23</td>\n",
       "    </tr>\n",
       "    <tr>\n",
       "      <th>86748</th>\n",
       "      <td>Stratiform</td>\n",
       "      <td>None</td>\n",
       "      <td>Berkley</td>\n",
       "      <td>I once got stuck in traffic at 11 pm on the 40...</td>\n",
       "      <td>True</td>\n",
       "      <td>0</td>\n",
       "      <td>1566602477</td>\n",
       "      <td>None</td>\n",
       "      <td>0</td>\n",
       "      <td>0</td>\n",
       "      <td>...</td>\n",
       "      <td>NaN</td>\n",
       "      <td>1.0</td>\n",
       "      <td>[]</td>\n",
       "      <td>r/Detroit</td>\n",
       "      <td>0.0</td>\n",
       "      <td>[]</td>\n",
       "      <td>NaN</td>\n",
       "      <td>NaN</td>\n",
       "      <td>2019-08-23 23:21:17</td>\n",
       "      <td>23</td>\n",
       "    </tr>\n",
       "    <tr>\n",
       "      <th>86749</th>\n",
       "      <td>Qiviuq</td>\n",
       "      <td>None</td>\n",
       "      <td>None</td>\n",
       "      <td>[You just need to refine your Google-fu.](http...</td>\n",
       "      <td>True</td>\n",
       "      <td>0</td>\n",
       "      <td>1566602523</td>\n",
       "      <td>None</td>\n",
       "      <td>0</td>\n",
       "      <td>0</td>\n",
       "      <td>...</td>\n",
       "      <td>NaN</td>\n",
       "      <td>1.0</td>\n",
       "      <td>[]</td>\n",
       "      <td>r/GreatLakes</td>\n",
       "      <td>0.0</td>\n",
       "      <td>[]</td>\n",
       "      <td>NaN</td>\n",
       "      <td>NaN</td>\n",
       "      <td>2019-08-23 23:22:03</td>\n",
       "      <td>23</td>\n",
       "    </tr>\n",
       "  </tbody>\n",
       "</table>\n",
       "<p>86750 rows × 48 columns</p>\n",
       "</div>"
      ],
      "text/plain": [
       "               author author_flair_css_class author_flair_text  \\\n",
       "0       Augustushomme                   None              None   \n",
       "1      eyeliketurtles                   None              None   \n",
       "2                Komm                                royal oak   \n",
       "3         veryniiiice                          Gaines Township   \n",
       "4              CodeGR                               West Grand   \n",
       "...               ...                    ...               ...   \n",
       "86745     dustyboy313                   None         Southwest   \n",
       "86746         jch2617                   None              None   \n",
       "86747    altakvetcher                   None              None   \n",
       "86748      Stratiform                   None           Berkley   \n",
       "86749          Qiviuq                   None              None   \n",
       "\n",
       "                                                    body  can_gild  \\\n",
       "0              What do you think is so great about Oslo?      True   \n",
       "1      Used to live in Valley Ranch and absolutely lo...      True   \n",
       "2                            We have a penguin mingle?!       True   \n",
       "3      Looks just like the ones they use at devos hall.       True   \n",
       "4      Can't believe people are getting out of their ...      True   \n",
       "...                                                  ...       ...   \n",
       "86745  I agree with you. His detroit episode was garbage      True   \n",
       "86746                  If all else fails Jesus is Lord..      True   \n",
       "86747  We (couple- w/no kids or pets at the time) exp...      True   \n",
       "86748  I once got stuck in traffic at 11 pm on the 40...      True   \n",
       "86749  [You just need to refine your Google-fu.](http...      True   \n",
       "\n",
       "       controversiality  created_utc distinguished  edited  gilded  ...  \\\n",
       "0                     1   1514765161          None       0       0  ...   \n",
       "1                     0   1514765495          None       0       0  ...   \n",
       "2                     0   1514765632          None       0       0  ...   \n",
       "3                     0   1514765771          None       0       0  ...   \n",
       "4                     0   1514766047          None       0       0  ...   \n",
       "...                 ...          ...           ...     ...     ...  ...   \n",
       "86745                 1   1566602275          None       0       0  ...   \n",
       "86746                 0   1566602364          None       0       0  ...   \n",
       "86747                 0   1566602392          None       0       0  ...   \n",
       "86748                 0   1566602477          None       0       0  ...   \n",
       "86749                 0   1566602523          None       0       0  ...   \n",
       "\n",
       "      removal_reason  send_replies steward_reports subreddit_name_prefixed  \\\n",
       "0                NaN           NaN             NaN                     NaN   \n",
       "1                NaN           NaN             NaN                     NaN   \n",
       "2                NaN           NaN             NaN                     NaN   \n",
       "3                NaN           NaN             NaN                     NaN   \n",
       "4                NaN           NaN             NaN                     NaN   \n",
       "...              ...           ...             ...                     ...   \n",
       "86745            NaN           1.0              []               r/Detroit   \n",
       "86746            NaN           1.0              []           r/grandrapids   \n",
       "86747            NaN           1.0              []              r/AnnArbor   \n",
       "86748            NaN           1.0              []               r/Detroit   \n",
       "86749            NaN           1.0              []            r/GreatLakes   \n",
       "\n",
       "      total_awards_received  awarders  associated_award  \\\n",
       "0                       NaN       NaN               NaN   \n",
       "1                       NaN       NaN               NaN   \n",
       "2                       NaN       NaN               NaN   \n",
       "3                       NaN       NaN               NaN   \n",
       "4                       NaN       NaN               NaN   \n",
       "...                     ...       ...               ...   \n",
       "86745                   0.0        []               NaN   \n",
       "86746                   0.0        []               NaN   \n",
       "86747                   0.0        []               NaN   \n",
       "86748                   0.0        []               NaN   \n",
       "86749                   0.0        []               NaN   \n",
       "\n",
       "       collapsed_because_crowd_control            datetime timeofday  \n",
       "0                                  NaN 2018-01-01 00:06:01         0  \n",
       "1                                  NaN 2018-01-01 00:11:35         0  \n",
       "2                                  NaN 2018-01-01 00:13:52         0  \n",
       "3                                  NaN 2018-01-01 00:16:11         0  \n",
       "4                                  NaN 2018-01-01 00:20:47         0  \n",
       "...                                ...                 ...       ...  \n",
       "86745                              NaN 2019-08-23 23:17:55        23  \n",
       "86746                              NaN 2019-08-23 23:19:24        23  \n",
       "86747                              NaN 2019-08-23 23:19:52        23  \n",
       "86748                              NaN 2019-08-23 23:21:17        23  \n",
       "86749                              NaN 2019-08-23 23:22:03        23  \n",
       "\n",
       "[86750 rows x 48 columns]"
      ]
     },
     "execution_count": 3,
     "metadata": {},
     "output_type": "execute_result"
    }
   ],
   "source": [
    "def convert_to_datetime(t): \n",
    "    return datetime.datetime.utcfromtimestamp(t)\n",
    "    \n",
    "df['datetime'] = df.created_utc.apply(datetime.datetime.utcfromtimestamp)\n",
    "df['timeofday'] = df.datetime.apply(lambda x: x.hour)\n",
    "df"
   ]
  },
  {
   "cell_type": "code",
   "execution_count": 4,
   "id": "78cc0676",
   "metadata": {},
   "outputs": [
    {
     "data": {
      "text/plain": [
       "timeofday\n",
       "16    6032\n",
       "17    6008\n",
       "15    5801\n",
       "18    5619\n",
       "14    5375\n",
       "19    5360\n",
       "13    5075\n",
       "20    5037\n",
       "1     4703\n",
       "21    4546\n",
       "2     4495\n",
       "0     4386\n",
       "22    4346\n",
       "23    4127\n",
       "12    3501\n",
       "3     3367\n",
       "4     2275\n",
       "11    1989\n",
       "5     1383\n",
       "10     991\n",
       "6      884\n",
       "7      525\n",
       "9      506\n",
       "8      419\n",
       "Name: author, dtype: int64"
      ]
     },
     "execution_count": 4,
     "metadata": {},
     "output_type": "execute_result"
    }
   ],
   "source": [
    "df.groupby('timeofday').author.count().sort_values(ascending=False)"
   ]
  },
  {
   "cell_type": "markdown",
   "id": "9fa77eb8",
   "metadata": {},
   "source": [
    "4PM seems to have the most amount of activity. "
   ]
  },
  {
   "cell_type": "markdown",
   "id": "e8c98194",
   "metadata": {},
   "source": [
    "## Question 2\n",
    "\n",
    "Are comments more positive or negative?"
   ]
  },
  {
   "cell_type": "code",
   "execution_count": 5,
   "id": "e6383157",
   "metadata": {},
   "outputs": [],
   "source": [
    "sa = SentimentIntensityAnalyzer()"
   ]
  },
  {
   "cell_type": "code",
   "execution_count": 6,
   "id": "a3c40056",
   "metadata": {},
   "outputs": [],
   "source": [
    "def getSentiment(text):\n",
    "    return 'positive' if sa.polarity_scores(text)['compound'] > 0 else 'negative'\n",
    "\n",
    "df['sentiment'] = df.body.apply(getSentiment)"
   ]
  },
  {
   "cell_type": "code",
   "execution_count": 7,
   "id": "a3f74d4d",
   "metadata": {},
   "outputs": [
    {
     "data": {
      "text/plain": [
       "sentiment\n",
       "positive    44203\n",
       "negative    42547\n",
       "Name: author, dtype: int64"
      ]
     },
     "execution_count": 7,
     "metadata": {},
     "output_type": "execute_result"
    }
   ],
   "source": [
    "df.groupby('sentiment').author.count().sort_values(ascending=False)"
   ]
  },
  {
   "cell_type": "markdown",
   "id": "7fbde56e",
   "metadata": {},
   "source": [
    "Comments on reddit tend to be more positive. "
   ]
  },
  {
   "cell_type": "markdown",
   "id": "6e9edca7",
   "metadata": {},
   "source": [
    "## Question 3\n",
    "\n",
    "What are the most common words on Reddit and graph the 30 most common words."
   ]
  },
  {
   "cell_type": "code",
   "execution_count": 8,
   "id": "4c3b0e27",
   "metadata": {},
   "outputs": [
    {
     "name": "stderr",
     "output_type": "stream",
     "text": [
      "[nltk_data] Downloading package stopwords to\n",
      "[nltk_data]     C:\\Users\\Tyler\\AppData\\Roaming\\nltk_data...\n",
      "[nltk_data]   Package stopwords is already up-to-date!\n",
      "[nltk_data] Downloading package vader_lexicon to\n",
      "[nltk_data]     C:\\Users\\Tyler\\AppData\\Roaming\\nltk_data...\n",
      "[nltk_data]   Package vader_lexicon is already up-to-date!\n"
     ]
    }
   ],
   "source": [
    "tokenizer = RegexpTokenizer('\\w+')\n",
    "nltk.download('stopwords')\n",
    "nltk.download('vader_lexicon')\n",
    "stop = set(stopwords.words(\"english\"))"
   ]
  },
  {
   "cell_type": "code",
   "execution_count": 9,
   "id": "baae4b0c",
   "metadata": {},
   "outputs": [],
   "source": [
    "def create_tokens(text):\n",
    "    tokens = tokenizer.tokenize(text.lower())\n",
    "    arr = []\n",
    "    for word in tokens: \n",
    "        if word not in stop:\n",
    "            arr.append(word)\n",
    "    return arr\n",
    "    \n",
    "df['tokens'] = df.body.apply(create_tokens)"
   ]
  },
  {
   "cell_type": "code",
   "execution_count": 10,
   "id": "1e864906",
   "metadata": {},
   "outputs": [
    {
     "data": {
      "text/plain": [
       "0        None\n",
       "1        None\n",
       "2        None\n",
       "3        None\n",
       "4        None\n",
       "         ... \n",
       "86745    None\n",
       "86746    None\n",
       "86747    None\n",
       "86748    None\n",
       "86749    None\n",
       "Name: tokens, Length: 86750, dtype: object"
      ]
     },
     "execution_count": 10,
     "metadata": {},
     "output_type": "execute_result"
    }
   ],
   "source": [
    "word_counts = Counter() \n",
    "def get_counts(tokens):\n",
    "    for word in tokens:\n",
    "        word_counts[word] += 1\n",
    "        \n",
    "df.tokens.apply(get_counts)"
   ]
  },
  {
   "cell_type": "code",
   "execution_count": 13,
   "id": "0cb432f2",
   "metadata": {},
   "outputs": [
    {
     "data": {
      "text/plain": [
       "<matplotlib.image.AxesImage at 0x17e00723b50>"
      ]
     },
     "execution_count": 13,
     "metadata": {},
     "output_type": "execute_result"
    },
    {
     "data": {
      "image/png": "[encoded data removed]",
      "text/plain": [
       "<Figure size 640x480 with 1 Axes>"
      ]
     },
     "metadata": {},
     "output_type": "display_data"
    }
   ],
   "source": [
    "top_30 = {}\n",
    "for word, count in word_counts.most_common(30):\n",
    "    top_30[word] = count\n",
    "\n",
    "wordcloud = WordCloud(width=600, \n",
    "                     height=400, \n",
    "                     random_state=2, \n",
    "                     max_font_size=100)\n",
    "wordcloud.generate_from_frequencies(top_30)\n",
    "plt.imshow(wordcloud, interpolation='bilinear')"
   ]
  },
  {
   "cell_type": "code",
   "execution_count": 14,
   "id": "8f999f98",
   "metadata": {},
   "outputs": [
    {
     "data": {
      "text/plain": [
       "{'like': 12786,\n",
       " 'people': 12333,\n",
       " 'get': 8670,\n",
       " 'would': 8547,\n",
       " 'one': 8358,\n",
       " 'good': 6974,\n",
       " 'detroit': 6898,\n",
       " 'https': 6437,\n",
       " 'think': 6393,\n",
       " 'city': 5831,\n",
       " 'also': 5794,\n",
       " 'know': 5730,\n",
       " 'com': 5591,\n",
       " 'time': 5586,\n",
       " 'go': 5526,\n",
       " 'really': 5243,\n",
       " 'gt': 4906,\n",
       " 'going': 4674,\n",
       " 'see': 4542,\n",
       " 'right': 4326,\n",
       " 'want': 4298,\n",
       " 'even': 4286,\n",
       " 'much': 4268,\n",
       " 'great': 4108,\n",
       " 'www': 4078,\n",
       " 'make': 3897,\n",
       " 'well': 3860,\n",
       " 'way': 3831,\n",
       " 'amp': 3827,\n",
       " 'years': 3825}"
      ]
     },
     "execution_count": 14,
     "metadata": {},
     "output_type": "execute_result"
    }
   ],
   "source": [
    "top_30"
   ]
  },
  {
   "cell_type": "markdown",
   "id": "d60dc0f5",
   "metadata": {},
   "source": [
    "The 5 most common words are: like, people, get, would and one."
   ]
  },
  {
   "cell_type": "markdown",
   "id": "84a4438e",
   "metadata": {},
   "source": [
    "## Question 4\n",
    "\n",
    "Did the number of comments increase per year?"
   ]
  },
  {
   "cell_type": "code",
   "execution_count": 16,
   "id": "b1d4bb90",
   "metadata": {},
   "outputs": [],
   "source": [
    "df['year'] = df.datetime.apply(lambda x: x.year)"
   ]
  },
  {
   "cell_type": "code",
   "execution_count": 17,
   "id": "cb71a4a0",
   "metadata": {},
   "outputs": [
    {
     "data": {
      "text/plain": [
       "year\n",
       "2018    13207\n",
       "2019    73543\n",
       "Name: author, dtype: int64"
      ]
     },
     "execution_count": 17,
     "metadata": {},
     "output_type": "execute_result"
    }
   ],
   "source": [
    "df.groupby('year').author.count()"
   ]
  },
  {
   "cell_type": "markdown",
   "id": "cad2318c",
   "metadata": {},
   "source": [
    "## Question 5\n",
    "\n",
    "What is the most common word for each year?"
   ]
  },
  {
   "cell_type": "code",
   "execution_count": 21,
   "id": "8c07f52a",
   "metadata": {},
   "outputs": [
    {
     "data": {
      "text/plain": [
       "datetime.datetime(2012, 8, 7, 5, 29, 16)"
      ]
     },
     "execution_count": 21,
     "metadata": {},
     "output_type": "execute_result"
    }
   ],
   "source": []
  },
  {
   "cell_type": "code",
   "execution_count": null,
   "id": "a4aa22f0",
   "metadata": {},
   "outputs": [],
   "source": []
  }
 ],
 "metadata": {
  "kernelspec": {
   "display_name": "Python 3 (ipykernel)",
   "language": "python",
   "name": "python3"
  },
  "language_info": {
   "codemirror_mode": {
    "name": "ipython",
    "version": 3
   },
   "file_extension": ".py",
   "mimetype": "text/x-python",
   "name": "python",
   "nbconvert_exporter": "python",
   "pygments_lexer": "ipython3",
   "version": "3.10.9"
  }
 },
 "nbformat": 4,
 "nbformat_minor": 5
}
